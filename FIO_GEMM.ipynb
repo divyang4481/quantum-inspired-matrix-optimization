{
 "cells": [
  {
   "cell_type": "markdown",
   "id": "1e518422",
   "metadata": {},
   "source": [
    "**Low-rank GEMM/GEMV:**\n",
    "\n",
    "Given W ∈ R^{out×in}, truncated SVD with rank r:\n",
    "    W ≈ U_r Σ_r V_r^T ≡ U_r (Σ_r V_r^T) =: U_r Ṽ_r^T\n",
    "\n",
    "Forward y = W x turns into two small multiplies:\n",
    "    y ≈ U_r (Ṽ_r^T x)\n",
    "\n",
    "Cost (per sample, counting multiply-add as 1 op):\n",
    "    dense GEMV  ~ out·in\n",
    "    low-rank    ~ out·r + in·r\n",
    "\n",
    "Break-even (benefit if):\n",
    "    out·r + in·r < out·in  ⇒  r < (out·in)/(out+in)\n",
    "    • For square n×n: r < n/2\n",
    "\n",
    "Practical rank policy (kernel-friendly, stable):\n",
    "    r ≤ min( α · break_even, β · min(in,out) )\n",
    "    - α in [0.8..1.0],   β ≈ 0.30 (default here)\n",
    "    - Align r to tensor-core multiples (64/128)\n",
    "    - Favor smaller r for GEMV/small-batch; allow larger r for accuracy.\n",
    "\n",
    "After conversion:\n",
    "    • Do a brief KD/finetune to recover accuracy if needed.\n",
    "    • You may export fused dense (u @ v) if your backend prefers a single GEMM.\n"
   ]
  },
  {
   "cell_type": "code",
   "execution_count": 146,
   "id": "d9bd12cf",
   "metadata": {},
   "outputs": [
    {
     "name": "stdout",
     "output_type": "stream",
     "text": [
      "=== CPU ===\n",
      "      system: Windows\n",
      "     release: 10\n",
      "     machine: AMD64\n",
      "      python: 3.10.18\n",
      "   processor: AMD64 Family 25 Model 117 Stepping 2, AuthenticAMD\n",
      "     threads: 16\n",
      "      ram_GB: 27.75\n",
      "\n",
      "=== GPUs ===\n",
      "GPU 0: NVIDIA GeForce RTX 4050 Laptop GPU | 6.0 GB | CC 8.9 | MPs 20\n",
      "\n",
      "Selected device: cuda\n"
     ]
    }
   ],
   "source": [
    "# Cell 0 — Hardware inventory & device flag\n",
    "import os, platform, subprocess, math, time\n",
    "import torch\n",
    "\n",
    "# User switch (auto-fallback to CPU if no CUDA)\n",
    "USE_GPU = True\n",
    "\n",
    "def list_cuda_devices():\n",
    "    gpus = []\n",
    "    if not torch.cuda.is_available():\n",
    "        return gpus\n",
    "    for i in range(torch.cuda.device_count()):\n",
    "        props = torch.cuda.get_device_properties(i)\n",
    "        gpus.append({\n",
    "            \"index\": i,\n",
    "            \"name\": props.name,\n",
    "            \"total_mem_GB\": round(props.total_memory / (1024**3), 2),\n",
    "            \"cc\": f\"{props.major}.{props.minor}\",\n",
    "            \"multi_processor_count\": props.multi_processor_count\n",
    "        })\n",
    "    return gpus\n",
    "\n",
    "def cpu_info():\n",
    "    info = {\n",
    "        \"system\": platform.system(),\n",
    "        \"release\": platform.release(),\n",
    "        \"machine\": platform.machine(),\n",
    "        \"python\": platform.python_version(),\n",
    "        \"processor\": platform.processor() or \"N/A\",\n",
    "        \"threads\": os.cpu_count(),\n",
    "    }\n",
    "    try:\n",
    "        import psutil\n",
    "        v = psutil.virtual_memory()\n",
    "        info[\"ram_GB\"] = round(v.total / (1024**3), 2)\n",
    "    except Exception:\n",
    "        info[\"ram_GB\"] = \"unknown (install psutil for exact)\"\n",
    "    return info\n",
    "\n",
    "gpus = list_cuda_devices()\n",
    "cpu = cpu_info()\n",
    "\n",
    "print(\"=== CPU ===\")\n",
    "for k,v in cpu.items(): print(f\"{k:>12}: {v}\")\n",
    "\n",
    "print(\"\\n=== GPUs ===\")\n",
    "if not gpus:\n",
    "    print(\"No CUDA devices detected.\")\n",
    "else:\n",
    "    for g in gpus:\n",
    "        print(f\"GPU {g['index']}: {g['name']} | {g['total_mem_GB']} GB | CC {g['cc']} | MPs {g['multi_processor_count']}\")\n",
    "\n",
    "if USE_GPU and torch.cuda.is_available():\n",
    "    device = torch.device(\"cuda\")\n",
    "else:\n",
    "    device = torch.device(\"cpu\")\n",
    "print(\"\\nSelected device:\", device)\n"
   ]
  },
  {
   "cell_type": "code",
   "execution_count": 147,
   "id": "80bde8cc",
   "metadata": {},
   "outputs": [
    {
     "name": "stdout",
     "output_type": "stream",
     "text": [
      "Device (from Cell 0): cuda | TF32: True\n"
     ]
    }
   ],
   "source": [
    "import math, time, sys\n",
    "import numpy as np\n",
    "import torch, torch.nn as nn\n",
    "import torch.nn.functional as F\n",
    "\n",
    "\n",
    "# Perf knobs (TF32 on Ampere+)\n",
    "torch.set_float32_matmul_precision(\"high\")\n",
    "try:\n",
    "    torch.backends.cuda.matmul.allow_tf32 = True\n",
    "    print(\"Device (from Cell 0):\", device, \"| TF32:\", torch.backends.cuda.matmul.allow_tf32)\n",
    "except Exception:\n",
    "    print(\"Device (from Cell 0):\", device)\n",
    "    pass\n",
    "\n",
    "\n"
   ]
  },
  {
   "cell_type": "markdown",
   "id": "1b88afad",
   "metadata": {},
   "source": [
    "**Low-rank linear layer (UΣVᵀ as v⟶u)**"
   ]
  },
  {
   "cell_type": "code",
   "execution_count": 148,
   "id": "fce4110f",
   "metadata": {},
   "outputs": [],
   "source": [
    "# Cell 2 — LowRankLinear (fixed from_dense & reconstruct_dense)\n",
    "class LowRankLinear(nn.Module):\n",
    "    \"\"\"\n",
    "    Factor dense W (out x in) into U (out x r) and V (r x in):\n",
    "      v: in -> r  (weights = V * diag(S))\n",
    "      u: r  -> out (weights = U)\n",
    "    Forward computes y = u(v(x)) ~= U diag(S) V^T x.\n",
    "    \"\"\"\n",
    "    def __init__(self, in_features, out_features, rank, bias=True):\n",
    "        super().__init__()\n",
    "        self.in_features = int(in_features)\n",
    "        self.out_features = int(out_features)\n",
    "        self.rank = int(rank)\n",
    "        self.v = nn.Linear(self.in_features, self.rank, bias=False)   # (r, in)\n",
    "        self.u = nn.Linear(self.rank, self.out_features, bias=bias)   # (out, r)\n",
    "\n",
    "    def forward(self, x):\n",
    "        return self.u(self.v(x))\n",
    "\n",
    "    def reconstruct_dense(self) -> nn.Linear:\n",
    "        \"\"\"\n",
    "        Fuse u and v back into one dense Linear:\n",
    "          u.weight: (out, r), v.weight: (r, in)  ->  (out, in)\n",
    "        \"\"\"\n",
    "        W_fused = (self.u.weight @ self.v.weight).contiguous()  # NOTE: no .T\n",
    "        bias = self.u.bias\n",
    "        dense = nn.Linear(self.in_features, self.out_features, bias=(bias is not None))\n",
    "        with torch.no_grad():\n",
    "            dense.weight.copy_(W_fused)\n",
    "            if bias is not None:\n",
    "                dense.bias.copy_(bias)\n",
    "        return dense\n",
    "\n",
    "    @staticmethod\n",
    "    def _svd_topk(W: torch.Tensor, rank: int, randomized: bool=False, oversample: int=16):\n",
    "        \"\"\"\n",
    "        Return top-k SVD of W (out x in): U_k (out x r), S_k (r,), Vt_k (r x in).\n",
    "        Uses torch.svd_lowrank if randomized=True (if available); else exact SVD.\n",
    "        \"\"\"\n",
    "        if randomized:\n",
    "            try:\n",
    "                q = min(rank + oversample, min(W.shape)-1)\n",
    "                U, S, V = torch.svd_lowrank(W, q=q)\n",
    "                U_k, S_k, V_k = U[:, :rank].contiguous(), S[:rank].contiguous(), V[:, :rank].contiguous()\n",
    "                return U_k, S_k, V_k.T.contiguous()\n",
    "            except Exception:\n",
    "                pass\n",
    "        U, S, Vt = torch.linalg.svd(W, full_matrices=False)\n",
    "        return U[:, :rank].contiguous(), S[:rank].contiguous(), Vt[:rank, :].contiguous()\n",
    "\n",
    "    @staticmethod\n",
    "    def from_dense(dense_layer: nn.Linear, rank: int, randomized=False):\n",
    "        \"\"\"\n",
    "        Convert nn.Linear to LowRankLinear with rank r.\n",
    "        v.weight expects (r, in); u.weight expects (out, r).\n",
    "        \"\"\"\n",
    "        W = dense_layer.weight.detach().clone()  # (out, in)\n",
    "        U_r, S_r, Vt_r = LowRankLinear._svd_topk(W, rank, randomized=randomized)\n",
    "        # Fold Σ into V: v(x) = (V Σ) x  -> V_scaled: (in, r).T -> (r, in)\n",
    "        V_scaled = (Vt_r.T * S_r.unsqueeze(0)).contiguous()   # (in, r)\n",
    "        lr = LowRankLinear(W.shape[1], W.shape[0], rank, bias=(dense_layer.bias is not None))\n",
    "        with torch.no_grad():\n",
    "            lr.v.weight.copy_(V_scaled.T)   # (r, in)\n",
    "            lr.u.weight.copy_(U_r)          # (out, r)\n",
    "            if dense_layer.bias is not None:\n",
    "                lr.u.bias.copy_(dense_layer.bias)\n",
    "        return lr\n"
   ]
  },
  {
   "cell_type": "markdown",
   "id": "9ea2ec09",
   "metadata": {},
   "source": [
    "**Rank selection by energy (Eckart–Young) & FLOPs Helpers**"
   ]
  },
  {
   "cell_type": "code",
   "execution_count": 149,
   "id": "5cfa7e51",
   "metadata": {},
   "outputs": [],
   "source": [
    "# Cell 3 — Rank Selection & FLOPs Helpers (updated)\n",
    "\n",
    "@torch.no_grad()\n",
    "def rank_from_energy(W: torch.Tensor, tau: float, multiple: int=None, r_max: int=None) -> int:\n",
    "    S = torch.linalg.svdvals(W)\n",
    "    energy = S * S\n",
    "    cumsum = torch.cumsum(energy, dim=0)\n",
    "    total = energy.sum()\n",
    "    r = int(torch.searchsorted(cumsum, tau * total).item() + 1)\n",
    "    if r_max is not None:\n",
    "        r = min(r, int(r_max))\n",
    "    if multiple is not None and multiple > 1:\n",
    "        import math\n",
    "        r = int(math.ceil(r / multiple) * multiple)\n",
    "    return max(1, r)\n",
    "\n",
    "def break_even_rank(in_features: int, out_features: int) -> int:\n",
    "    # benefit when: in*r + r*out < in*out  =>  r < (in*out)/(in+out)\n",
    "    return (in_features * out_features) // (in_features + out_features)\n",
    "\n",
    "def rank_from_target_speedup(in_features: int,\n",
    "                             out_features: int,\n",
    "                             target_speedup: float,\n",
    "                             multiple: int = 64,\n",
    "                             max_frac_min_dim: float = 0.30,\n",
    "                             alpha_break_even: float = 0.95) -> int:\n",
    "    \"\"\"\n",
    "    Dense/low-rank speedup ≈ (in*out) / (r*(in+out)).\n",
    "    For a desired speedup S => r ≈ (in*out) / (S*(in+out)) = break_even / S.\n",
    "    Then cap by policy and align to `multiple`.\n",
    "    \"\"\"\n",
    "    import math\n",
    "    r_be = break_even_rank(in_features, out_features)\n",
    "    r = max(1, int(r_be / max(target_speedup, 1e-6)))\n",
    "\n",
    "    # Caps: ≤ α·break_even and ≤ β·min(in,out)\n",
    "    r_cap_be  = int(alpha_break_even * r_be)\n",
    "    r_cap_min = int(max_frac_min_dim * min(in_features, out_features))\n",
    "    r = min(r, r_cap_be, r_cap_min)\n",
    "\n",
    "    # Align to kernel-friendly multiple\n",
    "    r = int(math.ceil(r / multiple) * multiple)\n",
    "    r = min(r, min(in_features, out_features) - 1)\n",
    "    return max(1, r)\n",
    "\n",
    "def flops_gemv(out_features, in_features, batch=1):\n",
    "    return int(out_features * in_features * batch)\n",
    "\n",
    "def flops_lowrank_gemv(out_features, in_features, rank, batch=1):\n",
    "    return int(batch * (in_features*rank + rank*out_features))\n"
   ]
  },
  {
   "cell_type": "markdown",
   "id": "64685ee2",
   "metadata": {},
   "source": [
    "**Micro-benchmark Utility (median / p90 / mean)**"
   ]
  },
  {
   "cell_type": "code",
   "execution_count": 150,
   "id": "b0af935c",
   "metadata": {},
   "outputs": [],
   "source": [
    "# Cell 4 — Micro-benchmark Utility\n",
    "@torch.inference_mode()\n",
    "def bench_layer(layer: nn.Module, x: torch.Tensor, iters: int = 120, warmup: int = 40):\n",
    "    layer.eval()\n",
    "    if torch.cuda.is_available(): torch.cuda.synchronize()\n",
    "    for _ in range(warmup):\n",
    "        _ = layer(x)\n",
    "    if torch.cuda.is_available(): torch.cuda.synchronize()\n",
    "    ts = []\n",
    "    for _ in range(iters):\n",
    "        t0 = time.perf_counter()\n",
    "        _ = layer(x)\n",
    "        if torch.cuda.is_available(): torch.cuda.synchronize()\n",
    "        ts.append(time.perf_counter() - t0)\n",
    "    arr = np.array(ts, dtype=np.float64)\n",
    "    return float(np.median(arr)), float(np.percentile(arr, 90)), float(np.mean(arr))\n"
   ]
  },
  {
   "cell_type": "markdown",
   "id": "fd635009",
   "metadata": {},
   "source": [
    "**Minimal Dense Layer & Inputs**"
   ]
  },
  {
   "cell_type": "code",
   "execution_count": 151,
   "id": "4220da5e",
   "metadata": {},
   "outputs": [
    {
     "name": "stdout",
     "output_type": "stream",
     "text": [
      "Dense W: (4096, 4096)\n",
      "Dense b: (4096,)\n"
     ]
    }
   ],
   "source": [
    "# Cell 5 — Minimal Dense Layer & Inputs\n",
    "class SingleLinear(nn.Module):\n",
    "    def __init__(self, in_features, out_features, bias=True):\n",
    "        super().__init__()\n",
    "        self.fc = nn.Linear(in_features, out_features, bias=bias)\n",
    "        nn.init.normal_(self.fc.weight, mean=0.0, std=0.02)\n",
    "        if bias: nn.init.zeros_(self.fc.bias)\n",
    "    def forward(self, x):\n",
    "        return self.fc(x)\n",
    "\n",
    "# Example shape: transformer-like projection\n",
    "in_features  = 4096\n",
    "out_features = 4096\n",
    "batch_gemm   = 256\n",
    "\n",
    "torch.manual_seed(0)\n",
    "dense_layer = SingleLinear(in_features, out_features).to(device).fc\n",
    "x_gemv = torch.randn(1, in_features, device=device)\n",
    "x_gemm = torch.randn(batch_gemm, in_features, device=device)\n",
    "\n",
    "print(\"Dense W:\", tuple(dense_layer.weight.shape))\n",
    "print(\"Dense b:\", tuple(dense_layer.bias.shape) if dense_layer.bias is not None else \"None\")"
   ]
  },
  {
   "cell_type": "markdown",
   "id": "30586218",
   "metadata": {},
   "source": [
    "**Choose Rank (Energy or Target-speedup)**"
   ]
  },
  {
   "cell_type": "code",
   "execution_count": 152,
   "id": "dd690e06",
   "metadata": {},
   "outputs": [
    {
     "name": "stdout",
     "output_type": "stream",
     "text": [
      "Chosen rank: 1152 | Break-even rank: 2048 (benefit if r < 2048)\n",
      "Policy: α·BE=1945, β·min=1228, multiple=64\n"
     ]
    }
   ],
   "source": [
    "# Cell 6 — Choose Rank (Energy or Target-speedup) with rank caps (updated)\n",
    "\n",
    "tau = 0.95\n",
    "rank_multiple = 64\n",
    "\n",
    "# --- New knobs ---\n",
    "AUTO_MODE = \"target\"     # \"target\" or \"energy\"\n",
    "TARGET_SPEEDUP = 1.8     # used if AUTO_MODE == \"target\"\n",
    "MAX_FRAC_MIN_DIM = 0.30  # ≤ 30% of min(in,out)\n",
    "ALPHA_BE = 0.95          # ≤ 95% of break-even\n",
    "\n",
    "# Pick rank\n",
    "if AUTO_MODE == \"target\":\n",
    "    rank = rank_from_target_speedup(\n",
    "        in_features, out_features,\n",
    "        target_speedup=TARGET_SPEEDUP,\n",
    "        multiple=rank_multiple,\n",
    "        max_frac_min_dim=MAX_FRAC_MIN_DIM,\n",
    "        alpha_break_even=ALPHA_BE,\n",
    "    )\n",
    "else:\n",
    "    # Energy rule + caps\n",
    "    rank = rank_from_energy(\n",
    "        dense_layer.weight.detach().cpu(),\n",
    "        tau=tau, multiple=rank_multiple,\n",
    "        r_max=min(in_features, out_features)\n",
    "    )\n",
    "    # Apply the same policy caps\n",
    "    r_be = break_even_rank(in_features, out_features)\n",
    "    r_cap_be  = int(ALPHA_BE * r_be)\n",
    "    r_cap_min = int(MAX_FRAC_MIN_DIM * min(in_features, out_features))\n",
    "    r_cap = max(1, min(r_cap_be, r_cap_min))\n",
    "    import math\n",
    "    rank = min(rank, r_cap)\n",
    "    rank = int(math.ceil(rank / rank_multiple) * rank_multiple)\n",
    "    rank = min(rank, min(in_features, out_features) - 1)\n",
    "\n",
    "r_be = break_even_rank(in_features, out_features)\n",
    "print(f\"Chosen rank: {rank} | Break-even rank: {r_be} (benefit if r < {r_be})\")\n",
    "print(f\"Policy: α·BE={int(ALPHA_BE*r_be)}, β·min={int(MAX_FRAC_MIN_DIM*min(in_features,out_features))}, multiple={rank_multiple}\")\n",
    "if rank >= r_be:\n",
    "    print(\"WARNING: rank ≥ break-even → likely slower than dense.\")\n"
   ]
  },
  {
   "cell_type": "markdown",
   "id": "e2d8bfc0",
   "metadata": {},
   "source": [
    "**Convert to Low-Rank & Sanity-Check Shapes**"
   ]
  },
  {
   "cell_type": "code",
   "execution_count": 153,
   "id": "8f78dd90",
   "metadata": {},
   "outputs": [
    {
     "name": "stdout",
     "output_type": "stream",
     "text": [
      "Shapes OK: u (4096, 1152)  v (1152, 4096) | randomized_svd=True\n"
     ]
    }
   ],
   "source": [
    "# Cell 7 — Convert to Low-Rank & Sanity-Check (updated randomized SVD policy)\n",
    "\n",
    "def use_randomized_svd(in_features: int, out_features: int) -> bool:\n",
    "    # Heuristic: use randomized when matrices are large\n",
    "    return min(in_features, out_features) >= 2048\n",
    "\n",
    "rnd = use_randomized_svd(in_features, out_features)\n",
    "lowrank_layer = LowRankLinear.from_dense(dense_layer, rank=rank, randomized=rnd).to(device)\n",
    "\n",
    "assert lowrank_layer.u.weight.shape == (out_features, rank), lowrank_layer.u.weight.shape\n",
    "assert lowrank_layer.v.weight.shape == (rank, in_features), lowrank_layer.v.weight.shape\n",
    "print(f\"Shapes OK: u {tuple(lowrank_layer.u.weight.shape)}  v {tuple(lowrank_layer.v.weight.shape)} | randomized_svd={rnd}\")\n"
   ]
  },
  {
   "cell_type": "markdown",
   "id": "ac641ee7",
   "metadata": {},
   "source": [
    "**Correctness, Theoretical FLOPs, and Latency**"
   ]
  },
  {
   "cell_type": "code",
   "execution_count": 154,
   "id": "a37c0582",
   "metadata": {},
   "outputs": [
    {
     "name": "stdout",
     "output_type": "stream",
     "text": [
      "Relative error (batch=256): 5.961e-01\n",
      "\n",
      "Theoretical FLOPs:\n",
      "  GEMV  dense: 16,777,216 | low-rank: 9,437,184 | reduction: 1.78×\n",
      "  GEMM  dense: 4,294,967,296 | low-rank: 2,415,919,104 | reduction: 1.78×\n",
      "\n",
      "Latency (seconds) — median / p90 / mean\n",
      "  GEMV dense:    0.000456 / 0.000491 / 0.000463\n",
      "  GEMV low-rank: 0.000279 / 0.000337 / 0.000289 | speedup: 1.63×\n",
      "  GEMM dense:    0.001006 / 0.001098 / 0.001023\n",
      "  GEMM low-rank: 0.000546 / 0.000611 / 0.000563 | speedup: 1.84×\n"
     ]
    }
   ],
   "source": [
    "# Cell 8 — Correctness, FLOPs, and Latency\n",
    "with torch.inference_mode():\n",
    "    y_dense = dense_layer(x_gemm)\n",
    "    y_low   = lowrank_layer(x_gemm)\n",
    "    rel_err = (y_dense - y_low).norm() / (y_dense.norm() + 1e-12)\n",
    "print(f\"Relative error (batch={batch_gemm}): {rel_err.item():.3e}\")\n",
    "\n",
    "# FLOPs (per forward)\n",
    "flops_dense_v = flops_gemv(out_features, in_features, batch=1)\n",
    "flops_low_v   = flops_lowrank_gemv(out_features, in_features, rank, batch=1)\n",
    "flops_dense_m = flops_gemv(out_features, in_features, batch=batch_gemm)\n",
    "flops_low_m   = flops_lowrank_gemv(out_features, in_features, rank, batch=batch_gemm)\n",
    "\n",
    "print(\"\\nTheoretical FLOPs:\")\n",
    "print(f\"  GEMV  dense: {flops_dense_v:,} | low-rank: {flops_low_v:,} | reduction: {flops_dense_v/max(flops_low_v,1):,.2f}×\")\n",
    "print(f\"  GEMM  dense: {flops_dense_m:,} | low-rank: {flops_low_m:,} | reduction: {flops_dense_m/max(flops_low_m,1):,.2f}×\")\n",
    "\n",
    "# Latency\n",
    "med_v, p90_v, mean_v = bench_layer(dense_layer, x_gemv, iters=120, warmup=40)\n",
    "med_v_lr, p90_v_lr, mean_v_lr = bench_layer(lowrank_layer, x_gemv, iters=120, warmup=40)\n",
    "\n",
    "med_m, p90_m, mean_m = bench_layer(dense_layer, x_gemm, iters=120, warmup=40)\n",
    "med_m_lr, p90_m_lr, mean_m_lr = bench_layer(lowrank_layer, x_gemm, iters=120, warmup=40)\n",
    "\n",
    "print(\"\\nLatency (seconds) — median / p90 / mean\")\n",
    "print(f\"  GEMV dense:    {med_v:.6f} / {p90_v:.6f} / {mean_v:.6f}\")\n",
    "print(f\"  GEMV low-rank: {med_v_lr:.6f} / {p90_v_lr:.6f} / {mean_v_lr:.6f} | speedup: {med_v/max(med_v_lr,1e-12):.2f}×\")\n",
    "\n",
    "print(f\"  GEMM dense:    {med_m:.6f} / {p90_m:.6f} / {mean_m:.6f}\")\n",
    "print(f\"  GEMM low-rank: {med_m_lr:.6f} / {p90_m_lr:.6f} / {mean_m_lr:.6f} | speedup: {med_m/max(med_m_lr,1e-12):.2f}×\")\n"
   ]
  },
  {
   "cell_type": "markdown",
   "id": "0425df2f",
   "metadata": {},
   "source": [
    "**Params & Fused Export Parity**"
   ]
  },
  {
   "cell_type": "code",
   "execution_count": 155,
   "id": "77d877a9",
   "metadata": {},
   "outputs": [
    {
     "name": "stdout",
     "output_type": "stream",
     "text": [
      "\n",
      "Parameters (float32 count proxy):\n",
      "  dense:    16,781,312\n",
      "  low-rank: 9,441,280 | reduction: 1.78×\n",
      "Fused-dense export parity (max-abs diff): 1.462e-03\n"
     ]
    }
   ],
   "source": [
    "# Cell 9 — Params & Fused Export Parity\n",
    "def count_params_linear(m: nn.Linear) -> int:\n",
    "    p = m.weight.numel()\n",
    "    if m.bias is not None: p += m.bias.numel()\n",
    "    return int(p)\n",
    "\n",
    "dense_params = count_params_linear(dense_layer)\n",
    "low_params   = count_params_linear(lowrank_layer.v) + count_params_linear(lowrank_layer.u)\n",
    "print(\"\\nParameters (float32 count proxy):\")\n",
    "print(f\"  dense:    {dense_params:,}\")\n",
    "print(f\"  low-rank: {low_params:,} | reduction: {dense_params/max(low_params,1):,.2f}×\")\n",
    "\n",
    "# Correct fusion: (out, r) @ (r, in) -> (out, in)\n",
    "fused = lowrank_layer.reconstruct_dense().to(device)\n",
    "with torch.inference_mode():\n",
    "    diff_export = (fused(x_gemm) - lowrank_layer(x_gemm)).abs().max().item()\n",
    "print(f\"Fused-dense export parity (max-abs diff): {diff_export:.3e}\")\n"
   ]
  },
  {
   "cell_type": "markdown",
   "id": "dc0161e3",
   "metadata": {},
   "source": [
    "**Force Practical Rank (256/512) & Re-benchmark (Optional)**"
   ]
  },
  {
   "cell_type": "code",
   "execution_count": 156,
   "id": "11e3e30a",
   "metadata": {},
   "outputs": [
    {
     "name": "stdout",
     "output_type": "stream",
     "text": [
      "Forcing rank to: 256\n",
      "Relative error (forced r=256): 8.888e-01\n",
      "GEMM speedup (forced r=256): 4.43×\n"
     ]
    }
   ],
   "source": [
    "# Cell 10 — Force Practical Rank (256/512) & Re-benchmark (Optional)\n",
    "forced_rank = 256  # try 256 or 512 for 4096×4096\n",
    "print(f\"Forcing rank to: {forced_rank}\")\n",
    "lowrank_layer = LowRankLinear.from_dense(dense_layer, rank=forced_rank, randomized=False).to(device)\n",
    "\n",
    "with torch.inference_mode():\n",
    "    y_dense = dense_layer(x_gemm)\n",
    "    y_low   = lowrank_layer(x_gemm)\n",
    "    rel_err = (y_dense - y_low).norm() / (y_dense.norm() + 1e-12)\n",
    "print(f\"Relative error (forced r={forced_rank}): {rel_err.item():.3e}\")\n",
    "\n",
    "med_m, _, _    = bench_layer(dense_layer, x_gemm, iters=120, warmup=40)\n",
    "med_m_lr, _, _ = bench_layer(lowrank_layer, x_gemm, iters=120, warmup=40)\n",
    "print(f\"GEMM speedup (forced r={forced_rank}): {med_m/max(med_m_lr,1e-12):.2f}×\")\n"
   ]
  },
  {
   "cell_type": "markdown",
   "id": "941638b7",
   "metadata": {},
   "source": [
    "**MNIST Data (with fallback)**"
   ]
  },
  {
   "cell_type": "code",
   "execution_count": 157,
   "id": "38a9bd52",
   "metadata": {},
   "outputs": [],
   "source": [
    "# Cell 11 — MNIST Data (with fallback if torchvision not present)\n",
    "try:\n",
    "    import torchvision\n",
    "    from torchvision import datasets, transforms\n",
    "    have_tv = True\n",
    "except Exception as e:\n",
    "    have_tv = False\n",
    "    print(\"torchvision not available; you can install it to run MNIST demo.\")\n",
    "\n",
    "BATCH = 256\n",
    "if have_tv:\n",
    "    tfm = transforms.Compose([\n",
    "        transforms.ToTensor(),\n",
    "        transforms.Normalize((0.1307,), (0.3081,))\n",
    "    ])\n",
    "    train_ds = datasets.MNIST(root=\"./data\", train=True, download=True, transform=tfm)\n",
    "    test_ds  = datasets.MNIST(root=\"./data\", train=False, download=True, transform=tfm)\n",
    "    train_loader = torch.utils.data.DataLoader(train_ds, batch_size=BATCH, shuffle=True, num_workers=2, pin_memory=True)\n",
    "    test_loader  = torch.utils.data.DataLoader(test_ds,  batch_size=BATCH, shuffle=False, num_workers=2, pin_memory=True)\n"
   ]
  },
  {
   "cell_type": "markdown",
   "id": "1bb19166",
   "metadata": {},
   "source": [
    "**Large MLP for MNIST**"
   ]
  },
  {
   "cell_type": "code",
   "execution_count": 158,
   "id": "b0fc9567",
   "metadata": {},
   "outputs": [
    {
     "name": "stdout",
     "output_type": "stream",
     "text": [
      "MNISTBigMLP(\n",
      "  (flatten): Flatten(start_dim=1, end_dim=-1)\n",
      "  (fc1): Linear(in_features=784, out_features=4096, bias=True)\n",
      "  (act): GELU(approximate='none')\n",
      "  (fc2): Linear(in_features=4096, out_features=10, bias=True)\n",
      ")\n"
     ]
    }
   ],
   "source": [
    "# Cell 12 — Large MLP (big Linear dims to stress GEMM/GEMV)\n",
    "class MNISTBigMLP(nn.Module):\n",
    "    def __init__(self, hidden=4096):\n",
    "        super().__init__()\n",
    "        self.flatten = nn.Flatten()\n",
    "        self.fc1 = nn.Linear(28*28, hidden)\n",
    "        self.act = nn.GELU()\n",
    "        self.fc2 = nn.Linear(hidden, 10)\n",
    "    def forward(self, x):\n",
    "        x = self.flatten(x)\n",
    "        x = self.act(self.fc1(x))\n",
    "        x = self.fc2(x)\n",
    "        return x\n",
    "\n",
    "model = MNISTBigMLP(hidden=4096).to(device)\n",
    "print(model)\n"
   ]
  },
  {
   "cell_type": "markdown",
   "id": "42f34baf",
   "metadata": {},
   "source": [
    "**MNIST Quick Train (few steps)**"
   ]
  },
  {
   "cell_type": "code",
   "execution_count": 159,
   "id": "530c61ae",
   "metadata": {},
   "outputs": [
    {
     "name": "stdout",
     "output_type": "stream",
     "text": [
      "Step 50/300 | loss=0.246\n",
      "Step 100/300 | loss=0.183\n",
      "Step 150/300 | loss=0.128\n",
      "Step 200/300 | loss=0.094\n",
      "Step 250/300 | loss=0.105\n",
      "Step 300/300 | loss=0.068\n"
     ]
    }
   ],
   "source": [
    "# Cell 13 — MNIST Quick Train (few steps just to get non-trivial weights)\n",
    "if have_tv:\n",
    "    opt = torch.optim.AdamW(model.parameters(), lr=1e-3)\n",
    "    loss_fn = nn.CrossEntropyLoss()\n",
    "    steps = 300  # keep light; adjust as needed\n",
    "    model.train()\n",
    "    it = iter(train_loader)\n",
    "    for s in range(steps):\n",
    "        try:\n",
    "            xb, yb = next(it)\n",
    "        except StopIteration:\n",
    "            it = iter(train_loader)\n",
    "            xb, yb = next(it)\n",
    "        xb, yb = xb.to(device), yb.to(device)\n",
    "        opt.zero_grad(set_to_none=True)\n",
    "        logits = model(xb)\n",
    "        loss = loss_fn(logits, yb)\n",
    "        loss.backward()\n",
    "        opt.step()\n",
    "        if (s+1) % 50 == 0:\n",
    "            print(f\"Step {s+1}/{steps} | loss={loss.item():.3f}\")\n"
   ]
  },
  {
   "cell_type": "markdown",
   "id": "e78cb945",
   "metadata": {},
   "source": [
    "**Eval & Convert fc1 with Low-Rank**"
   ]
  },
  {
   "cell_type": "code",
   "execution_count": 160,
   "id": "d600f629",
   "metadata": {},
   "outputs": [
    {
     "name": "stdout",
     "output_type": "stream",
     "text": [
      "MNIST test accuracy (before): 0.974\n",
      "Converting fc1 to LowRankLinear with rank=512\n",
      "MNIST test accuracy (after):  0.975\n",
      "Forward latency (1024 imgs, post-conv): 0.0114s\n"
     ]
    }
   ],
   "source": [
    "# Cell 14 — Eval & Convert fc1 with Low-Rank\n",
    "def eval_mnist(model, loader):\n",
    "    model.eval()\n",
    "    correct = total = 0\n",
    "    with torch.inference_mode():\n",
    "        for xb, yb in loader:\n",
    "            xb, yb = xb.to(device), yb.to(device)\n",
    "            logits = model(xb)\n",
    "            pred = logits.argmax(dim=1)\n",
    "            correct += int((pred == yb).sum().item())\n",
    "            total   += int(yb.numel())\n",
    "    return correct / max(total,1)\n",
    "\n",
    "if have_tv:\n",
    "    acc_before = eval_mnist(model, test_loader)\n",
    "    print(f\"MNIST test accuracy (before): {acc_before:.3f}\")\n",
    "\n",
    "# Convert fc1 (4096 x 784) to low-rank\n",
    "target_r = 512  # good starting point\n",
    "print(f\"Converting fc1 to LowRankLinear with rank={target_r}\")\n",
    "model.fc1 = LowRankLinear.from_dense(model.fc1, rank=target_r, randomized=False).to(device)\n",
    "\n",
    "if have_tv:\n",
    "    acc_after = eval_mnist(model, test_loader)\n",
    "    print(f\"MNIST test accuracy (after):  {acc_after:.3f}\")\n",
    "\n",
    "# Quick forward speed\n",
    "xb = torch.randn(1024, 1, 28, 28, device=device)\n",
    "t0 = time.perf_counter(); _ = model(xb); \n",
    "if torch.cuda.is_available(): torch.cuda.synchronize()\n",
    "print(f\"Forward latency (1024 imgs, post-conv): {(time.perf_counter()-t0):.4f}s\")\n"
   ]
  },
  {
   "cell_type": "markdown",
   "id": "28cc61c1",
   "metadata": {},
   "source": [
    "**Load a Model & Tokenizer (DistilBERT example)**"
   ]
  },
  {
   "cell_type": "code",
   "execution_count": 161,
   "id": "7a0f9fc1",
   "metadata": {},
   "outputs": [
    {
     "name": "stderr",
     "output_type": "stream",
     "text": [
      "Some weights of DistilBertForSequenceClassification were not initialized from the model checkpoint at distilbert-base-uncased and are newly initialized: ['classifier.bias', 'classifier.weight', 'pre_classifier.bias', 'pre_classifier.weight']\n",
      "You should probably TRAIN this model on a down-stream task to be able to use it for predictions and inference.\n"
     ]
    },
    {
     "name": "stdout",
     "output_type": "stream",
     "text": [
      "Loaded: distilbert-base-uncased\n"
     ]
    }
   ],
   "source": [
    "# Cell 15 — Load a Model & Tokenizer (DistilBERT)\n",
    "try:\n",
    "    from transformers import AutoTokenizer, AutoModelForSequenceClassification\n",
    "    have_hf = True\n",
    "except Exception:\n",
    "    have_hf = False\n",
    "    print(\"transformers not available; install to run BERT/Transformer patches.\")\n",
    "\n",
    "MODEL_NAME = \"distilbert-base-uncased\"\n",
    "NUM_LABELS = 2\n",
    "\n",
    "if have_hf:\n",
    "    tok = AutoTokenizer.from_pretrained(MODEL_NAME)\n",
    "    model_hf = AutoModelForSequenceClassification.from_pretrained(MODEL_NAME, num_labels=NUM_LABELS).to(device)\n",
    "    model_hf.eval()\n",
    "    print(\"Loaded:\", MODEL_NAME)\n"
   ]
  },
  {
   "cell_type": "markdown",
   "id": "4cb53c4f",
   "metadata": {},
   "source": [
    "**Patch Utility: selective Low-Rank conversion**"
   ]
  },
  {
   "cell_type": "code",
   "execution_count": 162,
   "id": "53e631ae",
   "metadata": {},
   "outputs": [],
   "source": [
    "# Cell 16 — Patch Utility (strong device/dtype safety + skip non-beneficial ranks)\n",
    "from dataclasses import dataclass\n",
    "\n",
    "@dataclass\n",
    "class PatchSpec:\n",
    "    tau: float | None = None      # if None => use fixed rank\n",
    "    rank: int = 256               # used when tau is None\n",
    "    multiple: int = 64            # align rank to this multiple\n",
    "    randomized: bool = False\n",
    "    min_in: int = 256\n",
    "    min_out: int = 256\n",
    "    patch_attention: bool = True\n",
    "    patch_ffn: bool = True\n",
    "\n",
    "def _aligned_rank(r: int, multiple: int) -> int:\n",
    "    import math\n",
    "    return int(math.ceil(max(1, r) / multiple) * multiple)\n",
    "\n",
    "def _should_patch_linear(name: str, mod: nn.Module, spec: PatchSpec):\n",
    "    if not isinstance(mod, nn.Linear): return False\n",
    "    if mod.in_features < spec.min_in or mod.out_features < spec.min_out: return False\n",
    "    lname = name.lower()\n",
    "    attn_keys = [\"q_lin\", \"k_lin\", \"v_lin\", \"out_lin\", \"attention\"]\n",
    "    ffn_keys  = [\"ffn\", \"intermediate\", \"lin1\", \"lin2\", \"dense\"]\n",
    "    if spec.patch_attention and any(k in lname for k in attn_keys): return True\n",
    "    if spec.patch_ffn and any(k in lname for k in ffn_keys): return True\n",
    "    return False\n",
    "\n",
    "def _pick_rank(layer: nn.Linear, spec: PatchSpec):\n",
    "    import math, torch\n",
    "    r_max = min(layer.in_features, layer.out_features)\n",
    "    if spec.tau is not None:\n",
    "        r = rank_from_energy(layer.weight.detach().cpu(), tau=spec.tau,\n",
    "                             multiple=spec.multiple, r_max=r_max)\n",
    "    else:\n",
    "        r = min(spec.rank, r_max)\n",
    "        r = _aligned_rank(r, spec.multiple)\n",
    "        r = min(r, r_max-1)\n",
    "    return max(1, r)\n",
    "\n",
    "def _move_like(ref: nn.Linear, lr: LowRankLinear):\n",
    "    # Force exact device/dtype as the reference Linear's weights (safest)\n",
    "    dev = ref.weight.device\n",
    "    dt  = ref.weight.dtype\n",
    "    lr.v.to(device=dev, dtype=dt)\n",
    "    lr.u.to(device=dev, dtype=dt)\n",
    "    # Also ensure the container is on device/dtype (not strictly required, but tidy)\n",
    "    lr.to(device=dev, dtype=dt)\n",
    "    # Sanity\n",
    "    assert lr.v.weight.device == dev and lr.u.weight.device == dev\n",
    "    assert lr.v.weight.dtype  == dt  and lr.u.weight.dtype  == dt\n",
    "    return lr\n",
    "\n",
    "def patch_model_lowrank(model: nn.Module, spec: PatchSpec):\n",
    "    \"\"\"\n",
    "    Replace selected nn.Linear with LowRankLinear:\n",
    "      - skip if rank >= break-even (no expected speed gain)\n",
    "      - ensure new module matches original device/dtype exactly\n",
    "    \"\"\"\n",
    "    replaced = []\n",
    "    for name, mod in list(model.named_modules()):\n",
    "        if not _should_patch_linear(name, mod, spec):\n",
    "            continue\n",
    "\n",
    "        # Walk to parent to replace attribute safely\n",
    "        parent = model\n",
    "        *parents, child = name.split(\".\")\n",
    "        for p in parents:\n",
    "            parent = getattr(parent, p)\n",
    "        old = getattr(parent, child)\n",
    "        if not isinstance(old, nn.Linear):\n",
    "            continue\n",
    "\n",
    "        r = _pick_rank(old, spec)\n",
    "        r_be = break_even_rank(old.in_features, old.out_features)\n",
    "        if r >= r_be:\n",
    "            continue  # skip non-beneficial ranks\n",
    "\n",
    "        # Build low-rank on CPU (SVD), then hard-move to old's device/dtype\n",
    "        lr = LowRankLinear.from_dense(old, rank=r, randomized=spec.randomized)\n",
    "        lr = _move_like(old, lr)\n",
    "\n",
    "        setattr(parent, child, lr)\n",
    "        replaced.append((name, old.in_features, old.out_features, r,\n",
    "                         str(old.weight.device), str(old.weight.dtype)))\n",
    "    return replaced\n"
   ]
  },
  {
   "cell_type": "markdown",
   "id": "4fd517fd",
   "metadata": {},
   "source": [
    "**DistilBERT: Patch, Forward, Speed, Error**"
   ]
  },
  {
   "cell_type": "code",
   "execution_count": 163,
   "id": "720e4abb",
   "metadata": {},
   "outputs": [
    {
     "name": "stdout",
     "output_type": "stream",
     "text": [
      "FFN replacements:\n",
      "   ('distilbert.transformer.layer.0.ffn.lin1', 768, 3072, 256, 'cuda:0', 'torch.float32')\n",
      "   ('distilbert.transformer.layer.0.ffn.lin2', 3072, 768, 256, 'cuda:0', 'torch.float32')\n",
      "   ('distilbert.transformer.layer.1.ffn.lin1', 768, 3072, 256, 'cuda:0', 'torch.float32')\n",
      "   ('distilbert.transformer.layer.1.ffn.lin2', 3072, 768, 256, 'cuda:0', 'torch.float32')\n",
      "   ('distilbert.transformer.layer.2.ffn.lin1', 768, 3072, 256, 'cuda:0', 'torch.float32')\n",
      "   ('distilbert.transformer.layer.2.ffn.lin2', 3072, 768, 256, 'cuda:0', 'torch.float32')\n",
      "   ('distilbert.transformer.layer.3.ffn.lin1', 768, 3072, 256, 'cuda:0', 'torch.float32')\n",
      "   ('distilbert.transformer.layer.3.ffn.lin2', 3072, 768, 256, 'cuda:0', 'torch.float32')\n",
      "   ('distilbert.transformer.layer.4.ffn.lin1', 768, 3072, 256, 'cuda:0', 'torch.float32')\n",
      "   ('distilbert.transformer.layer.4.ffn.lin2', 3072, 768, 256, 'cuda:0', 'torch.float32')\n",
      "   ('distilbert.transformer.layer.5.ffn.lin1', 768, 3072, 256, 'cuda:0', 'torch.float32')\n",
      "   ('distilbert.transformer.layer.5.ffn.lin2', 3072, 768, 256, 'cuda:0', 'torch.float32')\n",
      "Device mismatch after FFN patch: [('distilbert.transformer.layer.0.ffn.lin1', 'cuda:0', 'cuda:0'), ('distilbert.transformer.layer.0.ffn.lin2', 'cuda:0', 'cuda:0'), ('distilbert.transformer.layer.1.ffn.lin1', 'cuda:0', 'cuda:0'), ('distilbert.transformer.layer.1.ffn.lin2', 'cuda:0', 'cuda:0'), ('distilbert.transformer.layer.2.ffn.lin1', 'cuda:0', 'cuda:0'), ('distilbert.transformer.layer.2.ffn.lin2', 'cuda:0', 'cuda:0'), ('distilbert.transformer.layer.3.ffn.lin1', 'cuda:0', 'cuda:0'), ('distilbert.transformer.layer.3.ffn.lin2', 'cuda:0', 'cuda:0'), ('distilbert.transformer.layer.4.ffn.lin1', 'cuda:0', 'cuda:0'), ('distilbert.transformer.layer.4.ffn.lin2', 'cuda:0', 'cuda:0'), ('distilbert.transformer.layer.5.ffn.lin1', 'cuda:0', 'cuda:0'), ('distilbert.transformer.layer.5.ffn.lin2', 'cuda:0', 'cuda:0')]\n",
      "\n",
      "FFN-only: baseline=0.0690s | low-rank=0.0060s | speedup=11.44× | rel_err=2.027e+00\n"
     ]
    },
    {
     "name": "stderr",
     "output_type": "stream",
     "text": [
      "Some weights of DistilBertForSequenceClassification were not initialized from the model checkpoint at distilbert-base-uncased and are newly initialized: ['classifier.bias', 'classifier.weight', 'pre_classifier.bias', 'pre_classifier.weight']\n",
      "You should probably TRAIN this model on a down-stream task to be able to use it for predictions and inference.\n"
     ]
    },
    {
     "name": "stdout",
     "output_type": "stream",
     "text": [
      "\n",
      "FFN + Attention replacements:\n",
      "   ('distilbert.transformer.layer.0.attention.q_lin', 768, 768, 256, 'cuda:0', 'torch.float32')\n",
      "   ('distilbert.transformer.layer.0.attention.k_lin', 768, 768, 256, 'cuda:0', 'torch.float32')\n",
      "   ('distilbert.transformer.layer.0.attention.v_lin', 768, 768, 256, 'cuda:0', 'torch.float32')\n",
      "   ('distilbert.transformer.layer.0.attention.out_lin', 768, 768, 256, 'cuda:0', 'torch.float32')\n",
      "   ('distilbert.transformer.layer.0.ffn.lin1', 768, 3072, 256, 'cuda:0', 'torch.float32')\n",
      "   ('distilbert.transformer.layer.0.ffn.lin2', 3072, 768, 256, 'cuda:0', 'torch.float32')\n",
      "   ('distilbert.transformer.layer.1.attention.q_lin', 768, 768, 256, 'cuda:0', 'torch.float32')\n",
      "   ('distilbert.transformer.layer.1.attention.k_lin', 768, 768, 256, 'cuda:0', 'torch.float32')\n",
      "   ('distilbert.transformer.layer.1.attention.v_lin', 768, 768, 256, 'cuda:0', 'torch.float32')\n",
      "   ('distilbert.transformer.layer.1.attention.out_lin', 768, 768, 256, 'cuda:0', 'torch.float32')\n",
      "   ('distilbert.transformer.layer.1.ffn.lin1', 768, 3072, 256, 'cuda:0', 'torch.float32')\n",
      "   ('distilbert.transformer.layer.1.ffn.lin2', 3072, 768, 256, 'cuda:0', 'torch.float32')\n",
      "  ... (+24 more)\n",
      "Device mismatch after ALL patch: [('distilbert.transformer.layer.0.attention.q_lin', 'cuda:0', 'cuda:0'), ('distilbert.transformer.layer.0.attention.k_lin', 'cuda:0', 'cuda:0'), ('distilbert.transformer.layer.0.attention.v_lin', 'cuda:0', 'cuda:0'), ('distilbert.transformer.layer.0.attention.out_lin', 'cuda:0', 'cuda:0'), ('distilbert.transformer.layer.0.ffn.lin1', 'cuda:0', 'cuda:0'), ('distilbert.transformer.layer.0.ffn.lin2', 'cuda:0', 'cuda:0'), ('distilbert.transformer.layer.1.attention.q_lin', 'cuda:0', 'cuda:0'), ('distilbert.transformer.layer.1.attention.k_lin', 'cuda:0', 'cuda:0'), ('distilbert.transformer.layer.1.attention.v_lin', 'cuda:0', 'cuda:0'), ('distilbert.transformer.layer.1.attention.out_lin', 'cuda:0', 'cuda:0'), ('distilbert.transformer.layer.1.ffn.lin1', 'cuda:0', 'cuda:0'), ('distilbert.transformer.layer.1.ffn.lin2', 'cuda:0', 'cuda:0'), ('distilbert.transformer.layer.2.attention.q_lin', 'cuda:0', 'cuda:0'), ('distilbert.transformer.layer.2.attention.k_lin', 'cuda:0', 'cuda:0'), ('distilbert.transformer.layer.2.attention.v_lin', 'cuda:0', 'cuda:0'), ('distilbert.transformer.layer.2.attention.out_lin', 'cuda:0', 'cuda:0'), ('distilbert.transformer.layer.2.ffn.lin1', 'cuda:0', 'cuda:0'), ('distilbert.transformer.layer.2.ffn.lin2', 'cuda:0', 'cuda:0'), ('distilbert.transformer.layer.3.attention.q_lin', 'cuda:0', 'cuda:0'), ('distilbert.transformer.layer.3.attention.k_lin', 'cuda:0', 'cuda:0'), ('distilbert.transformer.layer.3.attention.v_lin', 'cuda:0', 'cuda:0'), ('distilbert.transformer.layer.3.attention.out_lin', 'cuda:0', 'cuda:0'), ('distilbert.transformer.layer.3.ffn.lin1', 'cuda:0', 'cuda:0'), ('distilbert.transformer.layer.3.ffn.lin2', 'cuda:0', 'cuda:0'), ('distilbert.transformer.layer.4.attention.q_lin', 'cuda:0', 'cuda:0'), ('distilbert.transformer.layer.4.attention.k_lin', 'cuda:0', 'cuda:0'), ('distilbert.transformer.layer.4.attention.v_lin', 'cuda:0', 'cuda:0'), ('distilbert.transformer.layer.4.attention.out_lin', 'cuda:0', 'cuda:0'), ('distilbert.transformer.layer.4.ffn.lin1', 'cuda:0', 'cuda:0'), ('distilbert.transformer.layer.4.ffn.lin2', 'cuda:0', 'cuda:0'), ('distilbert.transformer.layer.5.attention.q_lin', 'cuda:0', 'cuda:0'), ('distilbert.transformer.layer.5.attention.k_lin', 'cuda:0', 'cuda:0'), ('distilbert.transformer.layer.5.attention.v_lin', 'cuda:0', 'cuda:0'), ('distilbert.transformer.layer.5.attention.out_lin', 'cuda:0', 'cuda:0'), ('distilbert.transformer.layer.5.ffn.lin1', 'cuda:0', 'cuda:0'), ('distilbert.transformer.layer.5.ffn.lin2', 'cuda:0', 'cuda:0')]\n",
      "\n",
      "FFN+Attn: baseline=0.0690s | low-rank=0.0065s | speedup=10.58× | rel_err=7.683e-01\n"
     ]
    }
   ],
   "source": [
    "# Cell 17 — DistilBERT: Patch FFN first, then FFN+Attn (device-safe)\n",
    "if have_hf:\n",
    "    texts = [\"this movie was great!\", \"the plot was dull but acting decent.\", \"absolutely terrible\"] * 16\n",
    "    batch = tok(texts, padding=True, truncation=True, return_tensors=\"pt\").to(device)\n",
    "\n",
    "    # Make sure model is on the target device/dtype BEFORE we measure baseline\n",
    "    model_hf.to(device)\n",
    "    model_hf.eval()\n",
    "\n",
    "    # Baseline outputs & latency\n",
    "    with torch.inference_mode():\n",
    "        t0 = time.perf_counter()\n",
    "        out_base = model_hf(**batch).logits\n",
    "        if torch.cuda.is_available(): torch.cuda.synchronize()\n",
    "        t_base = time.perf_counter() - t0\n",
    "\n",
    "    # 1) Patch FFN only\n",
    "    spec_ffn = PatchSpec(tau=None, rank=256, multiple=64, randomized=False,\n",
    "                         min_in=256, min_out=256, patch_attention=False, patch_ffn=True)\n",
    "    replaced_ffn = patch_model_lowrank(model_hf, spec_ffn)\n",
    "    # Force the whole model back to device/dtype (belt & suspenders)\n",
    "    model_hf.to(device)\n",
    "    print(\"FFN replacements:\")\n",
    "    for r in replaced_ffn[:12]:\n",
    "        print(\"  \", r)\n",
    "    if len(replaced_ffn) > 12:\n",
    "        print(f\"  ... (+{len(replaced_ffn)-12} more)\")\n",
    "\n",
    "    # Sanity: confirm v/u are on CUDA (or target device)\n",
    "    bad = []\n",
    "    for n, m in model_hf.named_modules():\n",
    "        if isinstance(m, LowRankLinear):\n",
    "            if str(m.v.weight.device) != str(device) or str(m.u.weight.device) != str(device):\n",
    "                bad.append((n, str(m.v.weight.device), str(m.u.weight.device)))\n",
    "    if bad:\n",
    "        print(\"Device mismatch after FFN patch:\", bad)\n",
    "\n",
    "    with torch.inference_mode():\n",
    "        t0 = time.perf_counter()\n",
    "        out_ffn = model_hf(**batch).logits\n",
    "        if torch.cuda.is_available(): torch.cuda.synchronize()\n",
    "        t_ffn = time.perf_counter() - t0\n",
    "    rel_err_ffn = (out_base - out_ffn).norm() / (out_base.norm() + 1e-12)\n",
    "    print(f\"\\nFFN-only: baseline={t_base:.4f}s | low-rank={t_ffn:.4f}s | speedup={(t_base/max(t_ffn,1e-12)):.2f}× | rel_err={rel_err_ffn.item():.3e}\")\n",
    "\n",
    "    # 2) Patch attention too (fresh model to avoid double-patching)\n",
    "    model_hf = AutoModelForSequenceClassification.from_pretrained(MODEL_NAME, num_labels=NUM_LABELS).to(device)\n",
    "    model_hf.eval()\n",
    "    with torch.inference_mode():\n",
    "        out_base2 = model_hf(**batch).logits\n",
    "\n",
    "    spec_all = PatchSpec(tau=None, rank=256, multiple=64, randomized=False,\n",
    "                         min_in=256, min_out=256, patch_attention=True, patch_ffn=True)\n",
    "    replaced_all = patch_model_lowrank(model_hf, spec_all)\n",
    "    model_hf.to(device)  # force everything to device again\n",
    "    print(\"\\nFFN + Attention replacements:\")\n",
    "    for r in replaced_all[:12]:\n",
    "        print(\"  \", r)\n",
    "    if len(replaced_all) > 12:\n",
    "        print(f\"  ... (+{len(replaced_all)-12} more)\")\n",
    "\n",
    "    bad2 = []\n",
    "    for n, m in model_hf.named_modules():\n",
    "        if isinstance(m, LowRankLinear):\n",
    "            if str(m.v.weight.device) != str(device) or str(m.u.weight.device) != str(device):\n",
    "                bad2.append((n, str(m.v.weight.device), str(m.u.weight.device)))\n",
    "    if bad2:\n",
    "        print(\"Device mismatch after ALL patch:\", bad2)\n",
    "\n",
    "    with torch.inference_mode():\n",
    "        t0 = time.perf_counter()\n",
    "        out_low = model_hf(**batch).logits\n",
    "        if torch.cuda.is_available(): torch.cuda.synchronize()\n",
    "        t_low = time.perf_counter() - t0\n",
    "    rel_err_all = (out_base2 - out_low).norm() / (out_base2.norm() + 1e-12)\n",
    "    print(f\"\\nFFN+Attn: baseline={t_base:.4f}s | low-rank={t_low:.4f}s | speedup={(t_base/max(t_low,1e-12)):.2f}× | rel_err={rel_err_all.item():.3e}\")\n"
   ]
  },
  {
   "cell_type": "markdown",
   "id": "cbe416fb",
   "metadata": {},
   "source": [
    "**Rank Sweep Utility (Compact)**"
   ]
  },
  {
   "cell_type": "code",
   "execution_count": 164,
   "id": "886325e4",
   "metadata": {},
   "outputs": [
    {
     "name": "stdout",
     "output_type": "stream",
     "text": [
      "     r     rel_err  GEMV_spd×  GEMM_spd×     GEMV FLOPs d→lr       GEMM FLOPs d→lr\n",
      "--------------------------------------------------------------------------------\n",
      "   128   9.421e-01       5.13       5.61  16,777,216→1,048,576  4,294,967,296→268,435,456\n",
      "   192   9.150e-01       5.77       3.85  16,777,216→1,572,864  4,294,967,296→402,653,184\n",
      "   256   8.888e-01       6.44       4.95  16,777,216→2,097,152  4,294,967,296→536,870,912\n",
      "   384   8.380e-01       4.30       4.85  16,777,216→3,145,728  4,294,967,296→805,306,368\n",
      "   512   7.892e-01       3.13       2.52  16,777,216→4,194,304  4,294,967,296→1,073,741,824\n",
      "   768   6.995e-01       2.44       2.21  16,777,216→6,291,456  4,294,967,296→1,610,612,736\n",
      "  1024   6.143e-01       1.89       1.87  16,777,216→8,388,608  4,294,967,296→2,147,483,648\n"
     ]
    }
   ],
   "source": [
    "# Cell 18 — Rank Sweep Utility (Compact; for your dense test layer)\n",
    "def rank_sweep_report(dense_layer: nn.Linear, x_gemv, x_gemm, ranks):\n",
    "    print(f\"{'r':>6}  {'rel_err':>10}  {'GEMV_spd×':>9}  {'GEMM_spd×':>9}  \"\n",
    "          f\"{'GEMV FLOPs d→lr':>18}  {'GEMM FLOPs d→lr':>20}\")\n",
    "    print(\"-\"*80)\n",
    "    with torch.inference_mode():\n",
    "        y_dense_ref = dense_layer(x_gemm)\n",
    "    for r in ranks:\n",
    "        lr = LowRankLinear.from_dense(dense_layer, rank=r, randomized=False).to(device)\n",
    "        with torch.inference_mode():\n",
    "            y_lr = lr(x_gemm)\n",
    "            rel_err = (y_dense_ref - y_lr).norm() / (y_dense_ref.norm() + 1e-12)\n",
    "        fl_v_d = out_features*in_features\n",
    "        fl_v_l = in_features*r + r*out_features\n",
    "        fl_m_d = fl_v_d * batch_gemm\n",
    "        fl_m_l = fl_v_l * batch_gemm\n",
    "        med_v,_,_    = bench_layer(dense_layer, x_gemv, iters=80, warmup=30)\n",
    "        med_v_lr,_,_ = bench_layer(lr,          x_gemv, iters=80, warmup=30)\n",
    "        med_m,_,_    = bench_layer(dense_layer, x_gemm, iters=80, warmup=30)\n",
    "        med_m_lr,_,_ = bench_layer(lr,          x_gemm, iters=80, warmup=30)\n",
    "        print(f\"{r:6d}  {float(rel_err):10.3e}  {med_v/max(med_v_lr,1e-12):9.2f}  {med_m/max(med_m_lr,1e-12):9.2f}  \"\n",
    "              f\"{fl_v_d:9,d}→{fl_v_l:9,d}  {fl_m_d:11,d}→{fl_m_l:11,d}\")\n",
    "\n",
    "# Example sweep (adjust as you like)\n",
    "ranks = [128, 192, 256, 384, 512, 768, 1024]\n",
    "rank_sweep_report(dense_layer, x_gemv, x_gemm, ranks)\n"
   ]
  },
  {
   "cell_type": "code",
   "execution_count": 165,
   "id": "66dc353f",
   "metadata": {},
   "outputs": [
    {
     "data": {
      "image/png": "[encoded data removed]",
      "text/plain": [
       "<Figure size 700x450 with 1 Axes>"
      ]
     },
     "metadata": {},
     "output_type": "display_data"
    },
    {
     "data": {
      "image/png": "[encoded data removed]",
      "text/plain": [
       "<Figure size 700x450 with 1 Axes>"
      ]
     },
     "metadata": {},
     "output_type": "display_data"
    },
    {
     "name": "stdout",
     "output_type": "stream",
     "text": [
      "     r   speedup×     rel_err  theo(d/l)×\n",
      "------------------------------------------\n",
      "    64       8.95   9.704e-01       32.00\n",
      "   128       7.96   9.421e-01       16.00\n",
      "   192       4.00   9.150e-01       10.67\n",
      "   256       5.58   8.888e-01        8.00\n",
      "   320       5.06   8.633e-01        6.40\n",
      "   384       4.70   8.380e-01        5.33\n",
      "   448       2.58   8.134e-01        4.57\n",
      "   512       2.48   7.892e-01        4.00\n",
      "   640       2.32   7.436e-01        3.20\n",
      "   768       2.21   6.995e-01        2.67\n",
      "   832       2.13   6.778e-01        2.46\n",
      "  1024       1.96   6.143e-01        2.00\n"
     ]
    }
   ],
   "source": [
    "# Final Cell — Rank sweep + charts (speedup & error)\n",
    "import matplotlib.pyplot as plt\n",
    "\n",
    "# 1) Build candidate ranks (aligned, under policy)\n",
    "def aligned(r, m=rank_multiple): return int(math.ceil(r / m) * m)\n",
    "nmin = min(in_features, out_features)\n",
    "cands = [64, 96, 128, 160, 192, 224, 256, 320, 384, 512, 640, 768, 1024]\n",
    "cands = [aligned(r) for r in cands if r < nmin]\n",
    "# Also include fractions of min dim under 0.30 cap\n",
    "fractions = [0.05, 0.075, 0.10, 0.125, 0.15, 0.20, 0.25, 0.30]\n",
    "cands += [aligned(int(fr * nmin)) for fr in fractions]\n",
    "# Dedup + keep under caps and under break-even\n",
    "cands = sorted(set([r for r in cands if r < nmin and r < break_even_rank(in_features, out_features)\n",
    "                    and r <= int(MAX_FRAC_MIN_DIM * nmin)]))\n",
    "\n",
    "# 2) Baseline reference outputs (GEMM)\n",
    "with torch.inference_mode():\n",
    "    y_ref = dense_layer(x_gemm)\n",
    "\n",
    "# 3) Sweep\n",
    "records = []\n",
    "for r in cands:\n",
    "    lr = LowRankLinear.from_dense(dense_layer, rank=r, randomized=False).to(device)\n",
    "\n",
    "    # Error\n",
    "    with torch.inference_mode():\n",
    "        y_lr = lr(x_gemm)\n",
    "        rel_err = (y_ref - y_lr).norm() / (y_ref.norm() + 1e-12)\n",
    "        rel_err = float(rel_err)\n",
    "\n",
    "    # Latency (GEMM median)\n",
    "    med_dense, _, _ = bench_layer(dense_layer, x_gemm, iters=80, warmup=30)\n",
    "    med_lr,    _, _ = bench_layer(lr,          x_gemm, iters=80, warmup=30)\n",
    "    spd = med_dense / max(med_lr, 1e-12)\n",
    "\n",
    "    # Theoretical GEMM flops ratio (dense / lowrank)\n",
    "    fl_d = in_features * out_features * batch_gemm\n",
    "    fl_l = (in_features*r + r*out_features) * batch_gemm\n",
    "    theo = fl_d / max(fl_l, 1)\n",
    "\n",
    "    records.append((r, spd, rel_err, theo))\n",
    "\n",
    "# 4) Prepare arrays\n",
    "ranks = np.array([t[0] for t in records], dtype=np.int32)\n",
    "speed = np.array([t[1] for t in records], dtype=np.float64)\n",
    "err   = np.array([t[2] for t in records], dtype=np.float64)\n",
    "theoR = np.array([t[3] for t in records], dtype=np.float64)\n",
    "\n",
    "# 5) Chart 1 — GEMM speedup vs rank\n",
    "plt.figure(figsize=(7,4.5))\n",
    "plt.plot(ranks, speed, marker='o')\n",
    "plt.axhline(1.0, linestyle='--')\n",
    "plt.title(\"Low-Rank GEMM Median Speedup vs Rank\")\n",
    "plt.xlabel(\"Rank r (aligned)\")\n",
    "plt.ylabel(\"Measured speedup (dense_time / lowrank_time)\")\n",
    "plt.grid(True, which='both', alpha=0.35)\n",
    "plt.tight_layout()\n",
    "plt.show()\n",
    "\n",
    "# 6) Chart 2 — Relative error vs rank (log y-scale)\n",
    "plt.figure(figsize=(7,4.5))\n",
    "plt.plot(ranks, err, marker='o')\n",
    "plt.yscale(\"log\")\n",
    "plt.title(\"Relative Error vs Rank (||Y_dense - Y_lr|| / ||Y_dense||)\")\n",
    "plt.xlabel(\"Rank r (aligned)\")\n",
    "plt.ylabel(\"Relative error (log scale)\")\n",
    "plt.grid(True, which='both', alpha=0.35)\n",
    "plt.tight_layout()\n",
    "plt.show()\n",
    "\n",
    "# 7) (Optional) print a compact table including theoretical ratio\n",
    "print(f\"{'r':>6}  {'speedup×':>9}  {'rel_err':>10}  {'theo(d/l)×':>10}\")\n",
    "print(\"-\"*42)\n",
    "for r, s, e, t in records:\n",
    "    print(f\"{r:6d}  {s:9.2f}  {e:10.3e}  {t:10.2f}\")\n"
   ]
  },
  {
   "cell_type": "markdown",
   "id": "4a91547c",
   "metadata": {},
   "source": [
    "**Prepare teacher & student (fresh), tokenizer, and data**"
   ]
  },
  {
   "cell_type": "code",
   "execution_count": 166,
   "id": "5b92e844",
   "metadata": {},
   "outputs": [
    {
     "name": "stderr",
     "output_type": "stream",
     "text": [
      "Some weights of DistilBertForSequenceClassification were not initialized from the model checkpoint at distilbert-base-uncased and are newly initialized: ['classifier.bias', 'classifier.weight', 'pre_classifier.bias', 'pre_classifier.weight']\n",
      "You should probably TRAIN this model on a down-stream task to be able to use it for predictions and inference.\n",
      "Some weights of DistilBertForSequenceClassification were not initialized from the model checkpoint at distilbert-base-uncased and are newly initialized: ['classifier.bias', 'classifier.weight', 'pre_classifier.bias', 'pre_classifier.weight']\n",
      "You should probably TRAIN this model on a down-stream task to be able to use it for predictions and inference.\n"
     ]
    },
    {
     "name": "stdout",
     "output_type": "stream",
     "text": [
      "Patched modules: 36\n"
     ]
    }
   ],
   "source": [
    "# Cell 21 — Prepare teacher (baseline) & student (low-rank), tokenizer, and batch\n",
    "try:\n",
    "    from transformers import AutoTokenizer, AutoModelForSequenceClassification\n",
    "    have_hf = True\n",
    "except Exception:\n",
    "    have_hf = False\n",
    "    print(\"transformers not available; install to run BERT KD demo.\")\n",
    "\n",
    "MODEL_NAME = \"distilbert-base-uncased\"\n",
    "NUM_LABELS = 2\n",
    "\n",
    "if have_hf:\n",
    "    tok = AutoTokenizer.from_pretrained(MODEL_NAME)\n",
    "    teacher = AutoModelForSequenceClassification.from_pretrained(MODEL_NAME, num_labels=NUM_LABELS).to(device).eval()\n",
    "\n",
    "    # Build a new student and patch it using your patch utility (Cell 16)\n",
    "    student = AutoModelForSequenceClassification.from_pretrained(MODEL_NAME, num_labels=NUM_LABELS).to(device)\n",
    "    student.eval()\n",
    "\n",
    "    # Choose rank policy for patching (FFN+Attention or FFN-only)\n",
    "    spec = PatchSpec(tau=None, rank=256, multiple=64, randomized=False,\n",
    "                     min_in=256, min_out=256, patch_attention=True, patch_ffn=True)\n",
    "    replaced = patch_model_lowrank(student, spec)\n",
    "    student.to(device)\n",
    "    print(f\"Patched modules: {len(replaced)}\")\n",
    "\n",
    "    # Toy dataset (you can replace with a real loader)\n",
    "    texts = [\n",
    "        \"this movie was great!\", \"the plot was dull but acting decent.\",\n",
    "        \"absolutely terrible\", \"wonderfully acted and surprisingly moving.\",\n",
    "        \"boring and overlong\", \"a charming, witty script\"\n",
    "    ] * 64  # ~384 samples\n",
    "    enc = tok(texts, padding=True, truncation=True, return_tensors=\"pt\")\n",
    "    labels = torch.randint(0, NUM_LABELS, (enc[\"input_ids\"].shape[0],))\n",
    "    for k in enc: enc[k] = enc[k].to(device)\n",
    "    labels = labels.to(device)\n"
   ]
  },
  {
   "cell_type": "markdown",
   "id": "1a6ccf1f",
   "metadata": {},
   "source": [
    "**KD/finetune loop**"
   ]
  },
  {
   "cell_type": "code",
   "execution_count": 167,
   "id": "0d08afdf",
   "metadata": {},
   "outputs": [
    {
     "name": "stdout",
     "output_type": "stream",
     "text": [
      "step 50/300  loss=0.0806\n",
      "step 100/300  loss=0.0688\n",
      "step 150/300  loss=0.0680\n",
      "step 200/300  loss=0.0713\n",
      "step 250/300  loss=0.0697\n",
      "step 300/300  loss=0.0666\n"
     ]
    },
    {
     "data": {
      "image/png": "[encoded data removed]",
      "text/plain": [
       "<Figure size 700x450 with 1 Axes>"
      ]
     },
     "metadata": {},
     "output_type": "display_data"
    }
   ],
   "source": [
    "# Cell 22 — Tiny KD/finetune loop for the student\n",
    "import math\n",
    "import matplotlib.pyplot as plt\n",
    "\n",
    "if have_hf:\n",
    "    student.train()\n",
    "    teacher.eval()\n",
    "    opt = torch.optim.AdamW(student.parameters(), lr=5e-5, weight_decay=0.0)\n",
    "    T = 2.0  # temperature for KD\n",
    "    alpha = 0.9  # weight on KD loss (vs hard labels)\n",
    "    steps = 300  # small demo; raise for better parity\n",
    "\n",
    "    # Precompute teacher logits (no grad)\n",
    "    with torch.inference_mode():\n",
    "        tlogits = teacher(**enc).logits\n",
    "\n",
    "    losses = []\n",
    "    bs = 32\n",
    "    for s in range(steps):\n",
    "        i0 = (s * bs) % enc[\"input_ids\"].shape[0]\n",
    "        i1 = i0 + bs\n",
    "        batch = {k: v[i0:i1] for k,v in enc.items()}\n",
    "        yb = labels[i0:i1]\n",
    "        with torch.no_grad():\n",
    "            tlog_b = tlogits[i0:i1]\n",
    "\n",
    "        out = student(**batch).logits\n",
    "        # KD loss (KL divergence of soft targets)\n",
    "        log_p = torch.log_softmax(out / T, dim=-1)\n",
    "        p_t   = torch.softmax(tlog_b / T, dim=-1)\n",
    "        kd = torch.nn.functional.kl_div(log_p, p_t, reduction=\"batchmean\") * (T*T)\n",
    "        # Hard label CE (optional)\n",
    "        ce = torch.nn.functional.cross_entropy(out, yb)\n",
    "        loss = alpha * kd + (1.0 - alpha) * ce\n",
    "\n",
    "        opt.zero_grad(set_to_none=True)\n",
    "        loss.backward()\n",
    "        opt.step()\n",
    "        losses.append(loss.item())\n",
    "\n",
    "        if (s+1) % 50 == 0:\n",
    "            print(f\"step {s+1}/{steps}  loss={loss.item():.4f}\")\n",
    "\n",
    "    student.eval()\n",
    "\n",
    "    # Chart KD loss\n",
    "    plt.figure(figsize=(7,4.5))\n",
    "    plt.plot(range(1, steps+1), losses)\n",
    "    plt.title(\"KD/Finetune: Training Loss vs Steps\")\n",
    "    plt.xlabel(\"Step\")\n",
    "    plt.ylabel(\"Loss\")\n",
    "    plt.grid(True, which='both', alpha=0.35)\n",
    "    plt.tight_layout()\n",
    "    plt.show()\n"
   ]
  },
  {
   "cell_type": "markdown",
   "id": "9ba53fdd",
   "metadata": {},
   "source": [
    "**Measure latency & error, and plot comparison**"
   ]
  },
  {
   "cell_type": "code",
   "execution_count": 168,
   "id": "9869e04e",
   "metadata": {},
   "outputs": [
    {
     "name": "stdout",
     "output_type": "stream",
     "text": [
      "Latency — teacher: 0.0630s | student (low-rank+KD): 0.0418s | speedup: 1.51×\n",
      "Relative logits error: 2.843e-01\n",
      "Params — teacher: 66,955,010 | student: 45,721,346 | reduction: 1.46×\n"
     ]
    },
    {
     "data": {
      "image/png": "[encoded data removed]",
      "text/plain": [
       "<Figure size 650x420 with 1 Axes>"
      ]
     },
     "metadata": {},
     "output_type": "display_data"
    },
    {
     "data": {
      "image/png": "[encoded data removed]",
      "text/plain": [
       "<Figure size 700x420 with 1 Axes>"
      ]
     },
     "metadata": {},
     "output_type": "display_data"
    },
    {
     "name": "stdout",
     "output_type": "stream",
     "text": [
      "\n",
      "Summary -> speedup: 1.51× | rel_err: 2.843e-01 | params: 66,955,010 → 45,721,346\n"
     ]
    }
   ],
   "source": [
    "# Cell 23 — Measure latency & error, and plot comparison\n",
    "import matplotlib.pyplot as plt\n",
    "import numpy as np\n",
    "\n",
    "if have_hf:\n",
    "    # Latency (same batch enc)\n",
    "    with torch.inference_mode():\n",
    "        t0 = time.perf_counter()\n",
    "        out_teacher = teacher(**enc).logits\n",
    "        if torch.cuda.is_available(): torch.cuda.synchronize()\n",
    "        t_teacher = time.perf_counter() - t0\n",
    "\n",
    "    with torch.inference_mode():\n",
    "        t0 = time.perf_counter()\n",
    "        out_student = student(**enc).logits\n",
    "        if torch.cuda.is_available(): torch.cuda.synchronize()\n",
    "        t_student = time.perf_counter() - t0\n",
    "\n",
    "    # Relative error\n",
    "    rel_err = (out_teacher - out_student).norm() / (out_teacher.norm() + 1e-12)\n",
    "    rel_err = float(rel_err)\n",
    "\n",
    "    # Params count (rough proxy)\n",
    "    def count_params(m):\n",
    "        return sum(p.numel() for p in m.parameters())\n",
    "\n",
    "    p_teacher = count_params(teacher)\n",
    "    p_student = count_params(student)\n",
    "\n",
    "    # Print summary\n",
    "    print(f\"Latency — teacher: {t_teacher:.4f}s | student (low-rank+KD): {t_student:.4f}s | speedup: {t_teacher/max(t_student,1e-12):.2f}×\")\n",
    "    print(f\"Relative logits error: {rel_err:.3e}\")\n",
    "    print(f\"Params — teacher: {p_teacher:,} | student: {p_student:,} | reduction: {p_teacher/max(p_student,1):.2f}×\")\n",
    "\n",
    "    # Chart 1: latency bars\n",
    "    plt.figure(figsize=(6.5,4.2))\n",
    "    names = [\"Teacher\", \"Student\"]\n",
    "    times = [t_teacher, t_student]\n",
    "    plt.bar(names, times)\n",
    "    plt.title(\"Batch Latency (lower is better)\")\n",
    "    plt.ylabel(\"Seconds\")\n",
    "    for i, v in enumerate(times): plt.text(i, v, f\"{v:.3f}s\", ha=\"center\", va=\"bottom\")\n",
    "    plt.tight_layout()\n",
    "    plt.show()\n",
    "\n",
    "    # Chart 2: relative error + param reduction (dual view)\n",
    "    fig, ax1 = plt.subplots(figsize=(7,4.2))\n",
    "    ax1.plot([0,1], [rel_err, rel_err], marker='o')  # flat line to show value\n",
    "    ax1.set_title(\"Relative Logits Error after KD (teacher vs student)\")\n",
    "    ax1.set_xticks([0,1]); ax1.set_xticklabels([\"start\",\"end\"])\n",
    "    ax1.set_ylabel(\"Relative error\"); ax1.set_ylim(0, max(1e-2, rel_err*1.5))\n",
    "    ax1.grid(True, which='both', alpha=0.35)\n",
    "    fig.tight_layout()\n",
    "    plt.show()\n",
    "\n",
    "    # Optional: simple text summary\n",
    "    print(f\"\\nSummary -> speedup: {t_teacher/max(t_student,1e-12):.2f}× | rel_err: {rel_err:.3e} | params: {p_teacher:,} → {p_student:,}\")\n"
   ]
  }
 ],
 "metadata": {
  "kernelspec": {
   "display_name": "nvidia_env",
   "language": "python",
   "name": "python3"
  },
  "language_info": {
   "codemirror_mode": {
    "name": "ipython",
    "version": 3
   },
   "file_extension": ".py",
   "mimetype": "text/x-python",
   "name": "python",
   "nbconvert_exporter": "python",
   "pygments_lexer": "ipython3",
   "version": "3.10.18"
  }
 },
 "nbformat": 4,
 "nbformat_minor": 5
}
